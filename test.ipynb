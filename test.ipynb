{
 "cells": [
  {
   "cell_type": "code",
   "execution_count": 1,
   "metadata": {},
   "outputs": [
    {
     "data": {
      "text/plain": [
       "True"
      ]
     },
     "execution_count": 1,
     "metadata": {},
     "output_type": "execute_result"
    }
   ],
   "source": [
    "import torch\n",
    "torch.cuda.is_available()"
   ]
  },
  {
   "cell_type": "code",
   "execution_count": 7,
   "metadata": {},
   "outputs": [],
   "source": [
    "import numpy as np\n",
    "from skimage import io\n",
    "image_path = \"IEEE_data/dataset/train/image/GF2_Brasilia_-15.8652_-47.9337.npy\"\n",
    "dsm_path = \"IEEE_data/dataset/train/dsm/GF2_Brasilia_-15.8652_-47.9337.tif\"\n",
    "\n",
    "image = np.load(image_path)\n",
    "image = np.transpose(image,(1,2,0))\n",
    "\n",
    "label = io.imread(dsm_path)\n",
    "label = np.reshape(label,(label.shape[0],label.shape[1],1))\n",
    "\n",
    "image = image.astype(np.float32)\n",
    "label = label.astype(np.float32)\n",
    "\n",
    "print(image.shape,label.shape)"
   ]
  },
  {
   "cell_type": "code",
   "execution_count": 8,
   "metadata": {},
   "outputs": [
    {
     "name": "stdout",
     "output_type": "stream",
     "text": [
      "(512, 512, 4) (512, 512, 1)\n"
     ]
    }
   ],
   "source": [
    "print(image.shape,label.shape)"
   ]
  },
  {
   "cell_type": "code",
   "execution_count": 6,
   "metadata": {},
   "outputs": [
    {
     "data": {
      "text/plain": [
       "array([0.], dtype=float32)"
      ]
     },
     "execution_count": 6,
     "metadata": {},
     "output_type": "execute_result"
    }
   ],
   "source": [
    "import matplotlib.pyplot as plt "
   ]
  }
 ],
 "metadata": {
  "kernelspec": {
   "display_name": "imagepro",
   "language": "python",
   "name": "python3"
  },
  "language_info": {
   "codemirror_mode": {
    "name": "ipython",
    "version": 3
   },
   "file_extension": ".py",
   "mimetype": "text/x-python",
   "name": "python",
   "nbconvert_exporter": "python",
   "pygments_lexer": "ipython3",
   "version": "3.8.0"
  }
 },
 "nbformat": 4,
 "nbformat_minor": 2
}
